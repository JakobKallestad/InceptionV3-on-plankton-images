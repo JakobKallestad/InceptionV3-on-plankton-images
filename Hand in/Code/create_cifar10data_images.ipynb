{
 "cells": [
  {
   "cell_type": "code",
   "execution_count": 7,
   "metadata": {},
   "outputs": [],
   "source": [
    "from tensorflow.keras.datasets import cifar10\n",
    "from sklearn.model_selection import train_test_split\n",
    "import numpy as np\n",
    "import cv2"
   ]
  },
  {
   "cell_type": "code",
   "execution_count": 8,
   "metadata": {},
   "outputs": [
    {
     "name": "stdout",
     "output_type": "stream",
     "text": [
      "(50000, 32, 32, 3)\n",
      "(50000, 1)\n",
      "(10000, 32, 32, 3)\n",
      "(10000, 1)\n"
     ]
    }
   ],
   "source": [
    "(x_raw, y_raw), (x_test, y_test) = cifar10.load_data()\n",
    "print(x_raw.shape)\n",
    "print(y_raw.shape)\n",
    "print(x_test.shape)\n",
    "print(y_test.shape)"
   ]
  },
  {
   "cell_type": "code",
   "execution_count": 9,
   "metadata": {},
   "outputs": [
    {
     "name": "stdout",
     "output_type": "stream",
     "text": [
      "(40000, 32, 32, 3)\n",
      "(40000, 1)\n",
      "(10000, 32, 32, 3)\n",
      "(10000, 1)\n"
     ]
    }
   ],
   "source": [
    "x_train, x_validate, y_train, y_validate = train_test_split(x_raw, y_raw, test_size=0.2, random_state=42)\n",
    "print(x_train.shape)\n",
    "print(y_train.shape)\n",
    "print(x_validate.shape)\n",
    "print(y_validate.shape)"
   ]
  },
  {
   "cell_type": "code",
   "execution_count": 10,
   "metadata": {},
   "outputs": [],
   "source": [
    "upscaler = lambda img: cv2.resize(img, (75, 75))\n",
    "x_train = np.array([upscaler(img) for img in x_train])\n",
    "x_validate = np.array([upscaler(img) for img in x_validate])\n",
    "x_test = np.array([upscaler(img) for img in x_test])"
   ]
  },
  {
   "cell_type": "code",
   "execution_count": 11,
   "metadata": {},
   "outputs": [
    {
     "name": "stdout",
     "output_type": "stream",
     "text": [
      "(40000, 75, 75, 3)\n",
      "(40000, 1)\n"
     ]
    }
   ],
   "source": [
    "print(x_train.shape)\n",
    "print(y_train.shape)"
   ]
  },
  {
   "cell_type": "code",
   "execution_count": 6,
   "metadata": {},
   "outputs": [],
   "source": [
    "#current_dir = '/home/jupyter'\n",
    "#current_dir = '/home/jakobkallestad'\n",
    "current_dir = r'C:\\Users\\eirik\\Documents\\INF368\\Exercise1'\n",
    "\n",
    "class_names = {0:'airplane', 1:'automobile', 2:'bird', 3:'cat', 4:'deer', 5:'dog', 6:'frog', 7:'horse', 8:'ship', 9:'truck'}\n",
    "\n",
    "if True:\n",
    "    for i, (np_img, label) in enumerate(zip(x_train, y_train)):\n",
    "        cv2.imwrite(current_dir + \"/cifar10data/train/{}/{}.jpg\".format(class_names[label[0]], i), np_img)\n",
    "    for i, (np_img, label) in enumerate(zip(x_validate, y_validate)):\n",
    "        cv2.imwrite(current_dir + \"/cifar10data/validate/{}/{}.jpg\".format(class_names[label[0]], i), np_img)\n",
    "    for i, (np_img, label) in enumerate(zip(x_test, y_test)):\n",
    "        cv2.imwrite(current_dir + \"/cifar10data/test/{}/{}.jpg\".format(class_names[label[0]], i), np_img)"
   ]
  },
  {
   "cell_type": "code",
   "execution_count": null,
   "metadata": {},
   "outputs": [],
   "source": [
    "# Then remember to delete .ipynb_checkpoints folder that is automatically created from train/validate/test folders"
   ]
  }
 ],
 "metadata": {
  "kernelspec": {
   "display_name": "Python 3",
   "language": "python",
   "name": "python3"
  },
  "language_info": {
   "codemirror_mode": {
    "name": "ipython",
    "version": 3
   },
   "file_extension": ".py",
   "mimetype": "text/x-python",
   "name": "python",
   "nbconvert_exporter": "python",
   "pygments_lexer": "ipython3",
   "version": "3.7.6"
  }
 },
 "nbformat": 4,
 "nbformat_minor": 4
}
